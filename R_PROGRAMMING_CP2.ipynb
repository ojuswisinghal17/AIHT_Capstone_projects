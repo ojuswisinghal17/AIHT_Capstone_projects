{
  "nbformat": 4,
  "nbformat_minor": 0,
  "metadata": {
    "colab": {
      "provenance": []
    },
    "kernelspec": {
      "name": "ir",
      "display_name": "R"
    },
    "language_info": {
      "name": "R"
    }
  },
  "cells": [
    {
      "cell_type": "markdown",
      "source": [
        "# **R** **Programming**"
      ],
      "metadata": {
        "id": "dy704vO_3ooM"
      }
    },
    {
      "cell_type": "markdown",
      "source": [
        "## **Loading all required packages**"
      ],
      "metadata": {
        "id": "QCo82IID38sc"
      }
    },
    {
      "cell_type": "code",
      "source": [
        "install.packages(\"tidyverse\")\n",
        "install.packages(\"caret\")\n",
        "install.packages(\"ggplot2\")\n",
        "install.packages(\"dplyr\")\n",
        "install.packages(\"pROC\")\n",
        "install.packages(\"randomForest\")\n",
        "install.packages(\"Boruta\")\n",
        "\n",
        "library(tidyverse)\n",
        "library(caret)\n",
        "library(ggplot2)\n",
        "library(dplyr)\n",
        "library(pROC)\n",
        "library(randomForest)\n",
        "library(Boruta)"
      ],
      "metadata": {
        "colab": {
          "base_uri": "https://localhost:8080/"
        },
        "id": "xB65troE45cv",
        "outputId": "42bddda5-974f-48ec-eb5d-10899e49b8d5"
      },
      "execution_count": null,
      "outputs": [
        {
          "output_type": "stream",
          "name": "stderr",
          "text": [
            "Installing package into ‘/usr/local/lib/R/site-library’\n",
            "(as ‘lib’ is unspecified)\n",
            "\n",
            "Installing package into ‘/usr/local/lib/R/site-library’\n",
            "(as ‘lib’ is unspecified)\n",
            "\n",
            "also installing the dependencies ‘RcppEigen’, ‘ranger’\n",
            "\n",
            "\n",
            "randomForest 4.7-1.1\n",
            "\n",
            "Type rfNews() to see new features/changes/bug fixes.\n",
            "\n",
            "\n",
            "Attaching package: ‘randomForest’\n",
            "\n",
            "\n",
            "The following object is masked from ‘package:dplyr’:\n",
            "\n",
            "    combine\n",
            "\n",
            "\n",
            "The following object is masked from ‘package:ggplot2’:\n",
            "\n",
            "    margin\n",
            "\n",
            "\n"
          ]
        }
      ]
    },
    {
      "cell_type": "markdown",
      "source": [
        "## **1. Basic Data Structures in R**\n"
      ],
      "metadata": {
        "id": "52eLE_De6WsS"
      }
    },
    {
      "cell_type": "markdown",
      "source": [
        "\n",
        "R, a programming language and environment designed for statistical computing and graphics, employs various data structures for organizing and storing data efficiently. Among the fundamental data structures in R are:"
      ],
      "metadata": {
        "id": "ezGLCB_W8oQG"
      }
    },
    {
      "cell_type": "markdown",
      "source": [
        "**1. R Vectors**"
      ],
      "metadata": {
        "id": "vEw1KPNP6uCx"
      }
    },
    {
      "cell_type": "markdown",
      "source": [
        "Vectors are one-dimensional data structures. The only key thing here is all the elements of a vector\n",
        "must be of the identical data type.\n"
      ],
      "metadata": {
        "id": "09wtB1OuSnd1"
      }
    },
    {
      "cell_type": "code",
      "source": [
        "fruits <- c(\"banana\", \"apple\", \"orange\", \"guava\")\n",
        "\n",
        "fruits"
      ],
      "metadata": {
        "colab": {
          "base_uri": "https://localhost:8080/",
          "height": 34
        },
        "id": "fpoVfgsn35-f",
        "outputId": "75e499e1-1095-41f3-8b2a-eee4114195dd"
      },
      "execution_count": null,
      "outputs": [
        {
          "output_type": "display_data",
          "data": {
            "text/html": [
              "<style>\n",
              ".list-inline {list-style: none; margin:0; padding: 0}\n",
              ".list-inline>li {display: inline-block}\n",
              ".list-inline>li:not(:last-child)::after {content: \"\\00b7\"; padding: 0 .5ex}\n",
              "</style>\n",
              "<ol class=list-inline><li>'banana'</li><li>'apple'</li><li>'orange'</li><li>'guava'</li></ol>\n"
            ],
            "text/markdown": "1. 'banana'\n2. 'apple'\n3. 'orange'\n4. 'guava'\n\n\n",
            "text/latex": "\\begin{enumerate*}\n\\item 'banana'\n\\item 'apple'\n\\item 'orange'\n\\item 'guava'\n\\end{enumerate*}\n",
            "text/plain": [
              "[1] \"banana\" \"apple\"  \"orange\" \"guava\" "
            ]
          },
          "metadata": {}
        }
      ]
    },
    {
      "cell_type": "code",
      "source": [
        "numbers = c(1, 2, 3, 4, 5)\n",
        "\n",
        "numbers"
      ],
      "metadata": {
        "colab": {
          "base_uri": "https://localhost:8080/",
          "height": 34
        },
        "id": "aP4s4-my8RfY",
        "outputId": "3728caab-00c9-42b0-e31c-f3a819ffae57"
      },
      "execution_count": null,
      "outputs": [
        {
          "output_type": "display_data",
          "data": {
            "text/html": [
              "<style>\n",
              ".list-inline {list-style: none; margin:0; padding: 0}\n",
              ".list-inline>li {display: inline-block}\n",
              ".list-inline>li:not(:last-child)::after {content: \"\\00b7\"; padding: 0 .5ex}\n",
              "</style>\n",
              "<ol class=list-inline><li>1</li><li>2</li><li>3</li><li>4</li><li>5</li></ol>\n"
            ],
            "text/markdown": "1. 1\n2. 2\n3. 3\n4. 4\n5. 5\n\n\n",
            "text/latex": "\\begin{enumerate*}\n\\item 1\n\\item 2\n\\item 3\n\\item 4\n\\item 5\n\\end{enumerate*}\n",
            "text/plain": [
              "[1] 1 2 3 4 5"
            ]
          },
          "metadata": {}
        }
      ]
    },
    {
      "cell_type": "markdown",
      "source": [
        "**2. R Lists**"
      ],
      "metadata": {
        "id": "6DUwsD9V8yOG"
      }
    },
    {
      "cell_type": "markdown",
      "source": [
        "A list in R can contain many different data types inside it. A list is a collection of data which is ordered and changeable."
      ],
      "metadata": {
        "id": "qhbEEgANSuQc"
      }
    },
    {
      "cell_type": "code",
      "source": [
        "thislist <- list(\"apple\", \"banana\", \"cherry\")\n",
        "\n",
        "thislist"
      ],
      "metadata": {
        "id": "sOhT4Xbb9mgJ",
        "colab": {
          "base_uri": "https://localhost:8080/",
          "height": 97
        },
        "outputId": "7d56b93f-5f2b-48ce-fe6e-50dda4e26d2a"
      },
      "execution_count": null,
      "outputs": [
        {
          "output_type": "display_data",
          "data": {
            "text/html": [
              "<ol>\n",
              "\t<li>'apple'</li>\n",
              "\t<li>'banana'</li>\n",
              "\t<li>'cherry'</li>\n",
              "</ol>\n"
            ],
            "text/markdown": "1. 'apple'\n2. 'banana'\n3. 'cherry'\n\n\n",
            "text/latex": "\\begin{enumerate}\n\\item 'apple'\n\\item 'banana'\n\\item 'cherry'\n\\end{enumerate}\n",
            "text/plain": [
              "[[1]]\n",
              "[1] \"apple\"\n",
              "\n",
              "[[2]]\n",
              "[1] \"banana\"\n",
              "\n",
              "[[3]]\n",
              "[1] \"cherry\"\n"
            ]
          },
          "metadata": {}
        }
      ]
    },
    {
      "cell_type": "code",
      "source": [
        "thislist <- list(\"apple\", \"banana\", \"cherry\")\n",
        "thislist[1] <- \"blackcurrant\"\n",
        "\n",
        "# updated list\n",
        "thislist"
      ],
      "metadata": {
        "colab": {
          "base_uri": "https://localhost:8080/",
          "height": 97
        },
        "id": "g1ntfSiQTBkD",
        "outputId": "28038ec3-58a4-4c46-c7de-36b85684a160"
      },
      "execution_count": null,
      "outputs": [
        {
          "output_type": "display_data",
          "data": {
            "text/html": [
              "<ol>\n",
              "\t<li>'blackcurrant'</li>\n",
              "\t<li>'banana'</li>\n",
              "\t<li>'cherry'</li>\n",
              "</ol>\n"
            ],
            "text/markdown": "1. 'blackcurrant'\n2. 'banana'\n3. 'cherry'\n\n\n",
            "text/latex": "\\begin{enumerate}\n\\item 'blackcurrant'\n\\item 'banana'\n\\item 'cherry'\n\\end{enumerate}\n",
            "text/plain": [
              "[[1]]\n",
              "[1] \"blackcurrant\"\n",
              "\n",
              "[[2]]\n",
              "[1] \"banana\"\n",
              "\n",
              "[[3]]\n",
              "[1] \"cherry\"\n"
            ]
          },
          "metadata": {}
        }
      ]
    },
    {
      "cell_type": "markdown",
      "source": [
        "**3. R Matrices**\n"
      ],
      "metadata": {
        "id": "Nn4o_exDTQlU"
      }
    },
    {
      "cell_type": "markdown",
      "source": [
        "A matrix is a two dimensional data set with columns and rows.\n",
        "\n",
        "A column is a vertical representation of data, while a row is a horizontal representation of data."
      ],
      "metadata": {
        "id": "AuUQSMsLUFes"
      }
    },
    {
      "cell_type": "code",
      "source": [
        "thismatrix <- matrix(c(1,2,3,4,5,6), nrow = 3, ncol = 2)\n",
        "\n",
        "thismatrix"
      ],
      "metadata": {
        "colab": {
          "base_uri": "https://localhost:8080/",
          "height": 198
        },
        "id": "yu5nUkjKTuVJ",
        "outputId": "1cab7459-a37b-4dc8-b373-d7b9f94f0852"
      },
      "execution_count": null,
      "outputs": [
        {
          "output_type": "display_data",
          "data": {
            "text/html": [
              "<table class=\"dataframe\">\n",
              "<caption>A matrix: 3 × 2 of type dbl</caption>\n",
              "<tbody>\n",
              "\t<tr><td>1</td><td>4</td></tr>\n",
              "\t<tr><td>2</td><td>5</td></tr>\n",
              "\t<tr><td>3</td><td>6</td></tr>\n",
              "</tbody>\n",
              "</table>\n"
            ],
            "text/markdown": "\nA matrix: 3 × 2 of type dbl\n\n| 1 | 4 |\n| 2 | 5 |\n| 3 | 6 |\n\n",
            "text/latex": "A matrix: 3 × 2 of type dbl\n\\begin{tabular}{ll}\n\t 1 & 4\\\\\n\t 2 & 5\\\\\n\t 3 & 6\\\\\n\\end{tabular}\n",
            "text/plain": [
              "     [,1] [,2]\n",
              "[1,] 1    4   \n",
              "[2,] 2    5   \n",
              "[3,] 3    6   "
            ]
          },
          "metadata": {}
        }
      ]
    },
    {
      "cell_type": "code",
      "source": [
        "thismatrix <- matrix(c(\"apple\", \"banana\", \"cherry\", \"orange\"), nrow = 2, ncol = 2)\n",
        "\n",
        "thismatrix[1, 2]"
      ],
      "metadata": {
        "colab": {
          "base_uri": "https://localhost:8080/",
          "height": 34
        },
        "id": "hKOGn8aNUs7B",
        "outputId": "4d017a81-db9d-4f73-c1d8-e9e00357691c"
      },
      "execution_count": null,
      "outputs": [
        {
          "output_type": "display_data",
          "data": {
            "text/html": [
              "'cherry'"
            ],
            "text/markdown": "'cherry'",
            "text/latex": "'cherry'",
            "text/plain": [
              "[1] \"cherry\""
            ]
          },
          "metadata": {}
        }
      ]
    },
    {
      "cell_type": "markdown",
      "source": [
        "**4. R Arrays**"
      ],
      "metadata": {
        "id": "mwGwdPAgU2x8"
      }
    },
    {
      "cell_type": "markdown",
      "source": [
        "Arrays can have more than two dimensions."
      ],
      "metadata": {
        "id": "-qmfvHEsU_qT"
      }
    },
    {
      "cell_type": "code",
      "source": [
        "thisarray <- c(1:24)\n",
        "thisarray\n",
        "\n",
        "multiarray <- array(thisarray, dim = c(4, 3, 2))\n",
        "multiarray"
      ],
      "metadata": {
        "colab": {
          "base_uri": "https://localhost:8080/",
          "height": 52
        },
        "id": "S_08G1mMU-1Q",
        "outputId": "975b31ef-7612-48cd-cdf0-08c29ea1e661"
      },
      "execution_count": null,
      "outputs": [
        {
          "output_type": "display_data",
          "data": {
            "text/html": [
              "<style>\n",
              ".list-inline {list-style: none; margin:0; padding: 0}\n",
              ".list-inline>li {display: inline-block}\n",
              ".list-inline>li:not(:last-child)::after {content: \"\\00b7\"; padding: 0 .5ex}\n",
              "</style>\n",
              "<ol class=list-inline><li>1</li><li>2</li><li>3</li><li>4</li><li>5</li><li>6</li><li>7</li><li>8</li><li>9</li><li>10</li><li>11</li><li>12</li><li>13</li><li>14</li><li>15</li><li>16</li><li>17</li><li>18</li><li>19</li><li>20</li><li>21</li><li>22</li><li>23</li><li>24</li></ol>\n"
            ],
            "text/markdown": "1. 1\n2. 2\n3. 3\n4. 4\n5. 5\n6. 6\n7. 7\n8. 8\n9. 9\n10. 10\n11. 11\n12. 12\n13. 13\n14. 14\n15. 15\n16. 16\n17. 17\n18. 18\n19. 19\n20. 20\n21. 21\n22. 22\n23. 23\n24. 24\n\n\n",
            "text/latex": "\\begin{enumerate*}\n\\item 1\n\\item 2\n\\item 3\n\\item 4\n\\item 5\n\\item 6\n\\item 7\n\\item 8\n\\item 9\n\\item 10\n\\item 11\n\\item 12\n\\item 13\n\\item 14\n\\item 15\n\\item 16\n\\item 17\n\\item 18\n\\item 19\n\\item 20\n\\item 21\n\\item 22\n\\item 23\n\\item 24\n\\end{enumerate*}\n",
            "text/plain": [
              " [1]  1  2  3  4  5  6  7  8  9 10 11 12 13 14 15 16 17 18 19 20 21 22 23 24"
            ]
          },
          "metadata": {}
        },
        {
          "output_type": "display_data",
          "data": {
            "text/html": [
              "<style>\n",
              ".list-inline {list-style: none; margin:0; padding: 0}\n",
              ".list-inline>li {display: inline-block}\n",
              ".list-inline>li:not(:last-child)::after {content: \"\\00b7\"; padding: 0 .5ex}\n",
              "</style>\n",
              "<ol class=list-inline><li>1</li><li>2</li><li>3</li><li>4</li><li>5</li><li>6</li><li>7</li><li>8</li><li>9</li><li>10</li><li>11</li><li>12</li><li>13</li><li>14</li><li>15</li><li>16</li><li>17</li><li>18</li><li>19</li><li>20</li><li>21</li><li>22</li><li>23</li><li>24</li></ol>\n"
            ],
            "text/markdown": "1. 1\n2. 2\n3. 3\n4. 4\n5. 5\n6. 6\n7. 7\n8. 8\n9. 9\n10. 10\n11. 11\n12. 12\n13. 13\n14. 14\n15. 15\n16. 16\n17. 17\n18. 18\n19. 19\n20. 20\n21. 21\n22. 22\n23. 23\n24. 24\n\n\n",
            "text/latex": "\\begin{enumerate*}\n\\item 1\n\\item 2\n\\item 3\n\\item 4\n\\item 5\n\\item 6\n\\item 7\n\\item 8\n\\item 9\n\\item 10\n\\item 11\n\\item 12\n\\item 13\n\\item 14\n\\item 15\n\\item 16\n\\item 17\n\\item 18\n\\item 19\n\\item 20\n\\item 21\n\\item 22\n\\item 23\n\\item 24\n\\end{enumerate*}\n",
            "text/plain": [
              ", , 1\n",
              "\n",
              "     [,1] [,2] [,3]\n",
              "[1,]    1    5    9\n",
              "[2,]    2    6   10\n",
              "[3,]    3    7   11\n",
              "[4,]    4    8   12\n",
              "\n",
              ", , 2\n",
              "\n",
              "     [,1] [,2] [,3]\n",
              "[1,]   13   17   21\n",
              "[2,]   14   18   22\n",
              "[3,]   15   19   23\n",
              "[4,]   16   20   24\n"
            ]
          },
          "metadata": {}
        }
      ]
    },
    {
      "cell_type": "code",
      "source": [
        "thisarray <- c(1:24)\n",
        "multiarray <- array(thisarray, dim = c(4, 3, 2))\n",
        "\n",
        "multiarray[2, 3, 2]"
      ],
      "metadata": {
        "colab": {
          "base_uri": "https://localhost:8080/",
          "height": 34
        },
        "id": "nAZ6oD4zVs2-",
        "outputId": "4a71f60a-204e-434a-aa1d-e0d9e870cf93"
      },
      "execution_count": null,
      "outputs": [
        {
          "output_type": "display_data",
          "data": {
            "text/html": [
              "22"
            ],
            "text/markdown": "22",
            "text/latex": "22",
            "text/plain": [
              "[1] 22"
            ]
          },
          "metadata": {}
        }
      ]
    },
    {
      "cell_type": "markdown",
      "source": [
        "**5. R Data Frames**"
      ],
      "metadata": {
        "id": "ewkMBrl8VvRU"
      }
    },
    {
      "cell_type": "markdown",
      "source": [
        "Data Frames present information in a tabular format, resembling a table structure.\n",
        "\n",
        "They are versatile, allowing the inclusion of various data types. The initial column may consist of characters, while subsequent columns can contain numeric or logical data. It's essential to maintain uniform data types within each column."
      ],
      "metadata": {
        "id": "poDPAFJtV017"
      }
    },
    {
      "cell_type": "code",
      "source": [
        "Data_Frame <- data.frame (\n",
        "  Training = c(\"Strength\", \"Stamina\", \"Other\"),\n",
        "  Pulse = c(100, 150, 120),\n",
        "  Duration = c(60, 30, 45)\n",
        ")\n",
        "\n",
        "Data_Frame"
      ],
      "metadata": {
        "colab": {
          "base_uri": "https://localhost:8080/",
          "height": 192
        },
        "id": "AYHXp2WvWNR7",
        "outputId": "521130bc-3958-40c1-b3f7-c148e86d1d82"
      },
      "execution_count": null,
      "outputs": [
        {
          "output_type": "display_data",
          "data": {
            "text/html": [
              "<table class=\"dataframe\">\n",
              "<caption>A data.frame: 3 × 3</caption>\n",
              "<thead>\n",
              "\t<tr><th scope=col>Training</th><th scope=col>Pulse</th><th scope=col>Duration</th></tr>\n",
              "\t<tr><th scope=col>&lt;chr&gt;</th><th scope=col>&lt;dbl&gt;</th><th scope=col>&lt;dbl&gt;</th></tr>\n",
              "</thead>\n",
              "<tbody>\n",
              "\t<tr><td>Strength</td><td>100</td><td>60</td></tr>\n",
              "\t<tr><td>Stamina </td><td>150</td><td>30</td></tr>\n",
              "\t<tr><td>Other   </td><td>120</td><td>45</td></tr>\n",
              "</tbody>\n",
              "</table>\n"
            ],
            "text/markdown": "\nA data.frame: 3 × 3\n\n| Training &lt;chr&gt; | Pulse &lt;dbl&gt; | Duration &lt;dbl&gt; |\n|---|---|---|\n| Strength | 100 | 60 |\n| Stamina  | 150 | 30 |\n| Other    | 120 | 45 |\n\n",
            "text/latex": "A data.frame: 3 × 3\n\\begin{tabular}{lll}\n Training & Pulse & Duration\\\\\n <chr> & <dbl> & <dbl>\\\\\n\\hline\n\t Strength & 100 & 60\\\\\n\t Stamina  & 150 & 30\\\\\n\t Other    & 120 & 45\\\\\n\\end{tabular}\n",
            "text/plain": [
              "  Training Pulse Duration\n",
              "1 Strength 100   60      \n",
              "2 Stamina  150   30      \n",
              "3 Other    120   45      "
            ]
          },
          "metadata": {}
        }
      ]
    },
    {
      "cell_type": "code",
      "source": [
        "Data_Frame <- data.frame (\n",
        "  Training = c(\"Strength\", \"Stamina\", \"Other\"),\n",
        "  Pulse = c(100, 150, 120),\n",
        "  Duration = c(60, 30, 45)\n",
        ")\n",
        "\n",
        "summary(Data_Frame)"
      ],
      "metadata": {
        "colab": {
          "base_uri": "https://localhost:8080/",
          "height": 138
        },
        "id": "uOAKVWepWNXV",
        "outputId": "aedecfc9-afa9-45f9-e6ba-e87d21d1cba4"
      },
      "execution_count": null,
      "outputs": [
        {
          "output_type": "display_data",
          "data": {
            "text/plain": [
              "   Training             Pulse          Duration   \n",
              " Length:3           Min.   :100.0   Min.   :30.0  \n",
              " Class :character   1st Qu.:110.0   1st Qu.:37.5  \n",
              " Mode  :character   Median :120.0   Median :45.0  \n",
              "                    Mean   :123.3   Mean   :45.0  \n",
              "                    3rd Qu.:135.0   3rd Qu.:52.5  \n",
              "                    Max.   :150.0   Max.   :60.0  "
            ]
          },
          "metadata": {}
        }
      ]
    },
    {
      "cell_type": "markdown",
      "source": [
        "**6. R Factors**"
      ],
      "metadata": {
        "id": "OWNrSTtSWwuK"
      }
    },
    {
      "cell_type": "markdown",
      "source": [
        "Factors are used to categorize data."
      ],
      "metadata": {
        "id": "sjFOIynVW2eF"
      }
    },
    {
      "cell_type": "code",
      "source": [
        "music_genre <- factor(c(\"Jazz\", \"Rock\", \"Classic\", \"Classic\", \"Pop\", \"Jazz\", \"Rock\", \"Jazz\"))\n",
        "\n",
        "music_genre"
      ],
      "metadata": {
        "colab": {
          "base_uri": "https://localhost:8080/",
          "height": 69
        },
        "id": "KODSSrQ4W274",
        "outputId": "7e1d6913-2578-48ce-c4f1-c9848d440cb2"
      },
      "execution_count": null,
      "outputs": [
        {
          "output_type": "display_data",
          "data": {
            "text/html": [
              "<style>\n",
              ".list-inline {list-style: none; margin:0; padding: 0}\n",
              ".list-inline>li {display: inline-block}\n",
              ".list-inline>li:not(:last-child)::after {content: \"\\00b7\"; padding: 0 .5ex}\n",
              "</style>\n",
              "<ol class=list-inline><li>Jazz</li><li>Rock</li><li>Classic</li><li>Classic</li><li>Pop</li><li>Jazz</li><li>Rock</li><li>Jazz</li></ol>\n",
              "\n",
              "<details>\n",
              "\t<summary style=display:list-item;cursor:pointer>\n",
              "\t\t<strong>Levels</strong>:\n",
              "\t</summary>\n",
              "\t<style>\n",
              "\t.list-inline {list-style: none; margin:0; padding: 0}\n",
              "\t.list-inline>li {display: inline-block}\n",
              "\t.list-inline>li:not(:last-child)::after {content: \"\\00b7\"; padding: 0 .5ex}\n",
              "\t</style>\n",
              "\t<ol class=list-inline><li>'Classic'</li><li>'Jazz'</li><li>'Pop'</li><li>'Rock'</li></ol>\n",
              "</details>"
            ],
            "text/markdown": "1. Jazz\n2. Rock\n3. Classic\n4. Classic\n5. Pop\n6. Jazz\n7. Rock\n8. Jazz\n\n\n\n**Levels**: 1. 'Classic'\n2. 'Jazz'\n3. 'Pop'\n4. 'Rock'\n\n\n",
            "text/latex": "\\begin{enumerate*}\n\\item Jazz\n\\item Rock\n\\item Classic\n\\item Classic\n\\item Pop\n\\item Jazz\n\\item Rock\n\\item Jazz\n\\end{enumerate*}\n\n\\emph{Levels}: \\begin{enumerate*}\n\\item 'Classic'\n\\item 'Jazz'\n\\item 'Pop'\n\\item 'Rock'\n\\end{enumerate*}\n",
            "text/plain": [
              "[1] Jazz    Rock    Classic Classic Pop     Jazz    Rock    Jazz   \n",
              "Levels: Classic Jazz Pop Rock"
            ]
          },
          "metadata": {}
        }
      ]
    },
    {
      "cell_type": "code",
      "source": [
        "music_genre <- factor(c(\"Jazz\", \"Rock\", \"Classic\", \"Classic\", \"Pop\", \"Jazz\", \"Rock\", \"Jazz\"))\n",
        "\n",
        "length(music_genre)"
      ],
      "metadata": {
        "colab": {
          "base_uri": "https://localhost:8080/",
          "height": 34
        },
        "id": "33E0YpWbW2-q",
        "outputId": "60a71fc8-bc4b-432c-82df-558a2cde865e"
      },
      "execution_count": null,
      "outputs": [
        {
          "output_type": "display_data",
          "data": {
            "text/html": [
              "8"
            ],
            "text/markdown": "8",
            "text/latex": "8",
            "text/plain": [
              "[1] 8"
            ]
          },
          "metadata": {}
        }
      ]
    },
    {
      "cell_type": "markdown",
      "source": [
        "## **2. Linear Regression in R**"
      ],
      "metadata": {
        "id": "zeatrkqeXZW-"
      }
    },
    {
      "cell_type": "markdown",
      "source": [
        "\n",
        "In the realm of R programming, Linear Regression stands as a fundamental statistical method employed to predict a continuous outcome using input features. This technique presupposes a linear association between the predictor variables and the target variable. By estimating coefficients, the model reveals the influence of each feature on the target variable. Renowned for its simplicity and interpretability, Linear Regression offers insights into both the direction and magnitude of feature effects. Nevertheless, it assumes linearity and can be sensitive to outliers. Despite these considerations, Linear Regression retains its significance in R for tasks where comprehending the linear relationship between variables holds paramount importance."
      ],
      "metadata": {
        "id": "x_Nt4kmjXwbA"
      }
    },
    {
      "cell_type": "code",
      "source": [
        "data(mtcars)\n",
        "\n",
        "write.csv(mtcars, \"mtcars.csv\", row.names = FALSE)"
      ],
      "metadata": {
        "id": "uJYbwsYmYS8z"
      },
      "execution_count": null,
      "outputs": []
    },
    {
      "cell_type": "code",
      "source": [
        "data <- read.csv(\"mtcars.csv\")\n",
        "\n",
        "summary(data)"
      ],
      "metadata": {
        "colab": {
          "base_uri": "https://localhost:8080/",
          "height": 381
        },
        "id": "3YvYOimrZxHi",
        "outputId": "91149d71-1b2f-4c7a-9ea4-e60555080798"
      },
      "execution_count": null,
      "outputs": [
        {
          "output_type": "display_data",
          "data": {
            "text/plain": [
              "      mpg             cyl             disp             hp       \n",
              " Min.   :10.40   Min.   :4.000   Min.   : 71.1   Min.   : 52.0  \n",
              " 1st Qu.:15.43   1st Qu.:4.000   1st Qu.:120.8   1st Qu.: 96.5  \n",
              " Median :19.20   Median :6.000   Median :196.3   Median :123.0  \n",
              " Mean   :20.09   Mean   :6.188   Mean   :230.7   Mean   :146.7  \n",
              " 3rd Qu.:22.80   3rd Qu.:8.000   3rd Qu.:326.0   3rd Qu.:180.0  \n",
              " Max.   :33.90   Max.   :8.000   Max.   :472.0   Max.   :335.0  \n",
              "      drat             wt             qsec             vs        \n",
              " Min.   :2.760   Min.   :1.513   Min.   :14.50   Min.   :0.0000  \n",
              " 1st Qu.:3.080   1st Qu.:2.581   1st Qu.:16.89   1st Qu.:0.0000  \n",
              " Median :3.695   Median :3.325   Median :17.71   Median :0.0000  \n",
              " Mean   :3.597   Mean   :3.217   Mean   :17.85   Mean   :0.4375  \n",
              " 3rd Qu.:3.920   3rd Qu.:3.610   3rd Qu.:18.90   3rd Qu.:1.0000  \n",
              " Max.   :4.930   Max.   :5.424   Max.   :22.90   Max.   :1.0000  \n",
              "       am              gear            carb      \n",
              " Min.   :0.0000   Min.   :3.000   Min.   :1.000  \n",
              " 1st Qu.:0.0000   1st Qu.:3.000   1st Qu.:2.000  \n",
              " Median :0.0000   Median :4.000   Median :2.000  \n",
              " Mean   :0.4062   Mean   :3.688   Mean   :2.812  \n",
              " 3rd Qu.:1.0000   3rd Qu.:4.000   3rd Qu.:4.000  \n",
              " Max.   :1.0000   Max.   :5.000   Max.   :8.000  "
            ]
          },
          "metadata": {}
        }
      ]
    },
    {
      "cell_type": "code",
      "source": [
        "data <- na.omit(data)\n",
        "\n",
        " head(mtcars)"
      ],
      "metadata": {
        "colab": {
          "base_uri": "https://localhost:8080/",
          "height": 286
        },
        "id": "4jPBztRdZ3tj",
        "outputId": "11913abf-c5d4-48fc-8ce0-972663414db2"
      },
      "execution_count": null,
      "outputs": [
        {
          "output_type": "display_data",
          "data": {
            "text/html": [
              "<table class=\"dataframe\">\n",
              "<caption>A data.frame: 6 × 11</caption>\n",
              "<thead>\n",
              "\t<tr><th></th><th scope=col>mpg</th><th scope=col>cyl</th><th scope=col>disp</th><th scope=col>hp</th><th scope=col>drat</th><th scope=col>wt</th><th scope=col>qsec</th><th scope=col>vs</th><th scope=col>am</th><th scope=col>gear</th><th scope=col>carb</th></tr>\n",
              "\t<tr><th></th><th scope=col>&lt;dbl&gt;</th><th scope=col>&lt;dbl&gt;</th><th scope=col>&lt;dbl&gt;</th><th scope=col>&lt;dbl&gt;</th><th scope=col>&lt;dbl&gt;</th><th scope=col>&lt;dbl&gt;</th><th scope=col>&lt;dbl&gt;</th><th scope=col>&lt;dbl&gt;</th><th scope=col>&lt;dbl&gt;</th><th scope=col>&lt;dbl&gt;</th><th scope=col>&lt;dbl&gt;</th></tr>\n",
              "</thead>\n",
              "<tbody>\n",
              "\t<tr><th scope=row>Mazda RX4</th><td>21.0</td><td>6</td><td>160</td><td>110</td><td>3.90</td><td>2.620</td><td>16.46</td><td>0</td><td>1</td><td>4</td><td>4</td></tr>\n",
              "\t<tr><th scope=row>Mazda RX4 Wag</th><td>21.0</td><td>6</td><td>160</td><td>110</td><td>3.90</td><td>2.875</td><td>17.02</td><td>0</td><td>1</td><td>4</td><td>4</td></tr>\n",
              "\t<tr><th scope=row>Datsun 710</th><td>22.8</td><td>4</td><td>108</td><td> 93</td><td>3.85</td><td>2.320</td><td>18.61</td><td>1</td><td>1</td><td>4</td><td>1</td></tr>\n",
              "\t<tr><th scope=row>Hornet 4 Drive</th><td>21.4</td><td>6</td><td>258</td><td>110</td><td>3.08</td><td>3.215</td><td>19.44</td><td>1</td><td>0</td><td>3</td><td>1</td></tr>\n",
              "\t<tr><th scope=row>Hornet Sportabout</th><td>18.7</td><td>8</td><td>360</td><td>175</td><td>3.15</td><td>3.440</td><td>17.02</td><td>0</td><td>0</td><td>3</td><td>2</td></tr>\n",
              "\t<tr><th scope=row>Valiant</th><td>18.1</td><td>6</td><td>225</td><td>105</td><td>2.76</td><td>3.460</td><td>20.22</td><td>1</td><td>0</td><td>3</td><td>1</td></tr>\n",
              "</tbody>\n",
              "</table>\n"
            ],
            "text/markdown": "\nA data.frame: 6 × 11\n\n| <!--/--> | mpg &lt;dbl&gt; | cyl &lt;dbl&gt; | disp &lt;dbl&gt; | hp &lt;dbl&gt; | drat &lt;dbl&gt; | wt &lt;dbl&gt; | qsec &lt;dbl&gt; | vs &lt;dbl&gt; | am &lt;dbl&gt; | gear &lt;dbl&gt; | carb &lt;dbl&gt; |\n|---|---|---|---|---|---|---|---|---|---|---|---|\n| Mazda RX4 | 21.0 | 6 | 160 | 110 | 3.90 | 2.620 | 16.46 | 0 | 1 | 4 | 4 |\n| Mazda RX4 Wag | 21.0 | 6 | 160 | 110 | 3.90 | 2.875 | 17.02 | 0 | 1 | 4 | 4 |\n| Datsun 710 | 22.8 | 4 | 108 |  93 | 3.85 | 2.320 | 18.61 | 1 | 1 | 4 | 1 |\n| Hornet 4 Drive | 21.4 | 6 | 258 | 110 | 3.08 | 3.215 | 19.44 | 1 | 0 | 3 | 1 |\n| Hornet Sportabout | 18.7 | 8 | 360 | 175 | 3.15 | 3.440 | 17.02 | 0 | 0 | 3 | 2 |\n| Valiant | 18.1 | 6 | 225 | 105 | 2.76 | 3.460 | 20.22 | 1 | 0 | 3 | 1 |\n\n",
            "text/latex": "A data.frame: 6 × 11\n\\begin{tabular}{r|lllllllllll}\n  & mpg & cyl & disp & hp & drat & wt & qsec & vs & am & gear & carb\\\\\n  & <dbl> & <dbl> & <dbl> & <dbl> & <dbl> & <dbl> & <dbl> & <dbl> & <dbl> & <dbl> & <dbl>\\\\\n\\hline\n\tMazda RX4 & 21.0 & 6 & 160 & 110 & 3.90 & 2.620 & 16.46 & 0 & 1 & 4 & 4\\\\\n\tMazda RX4 Wag & 21.0 & 6 & 160 & 110 & 3.90 & 2.875 & 17.02 & 0 & 1 & 4 & 4\\\\\n\tDatsun 710 & 22.8 & 4 & 108 &  93 & 3.85 & 2.320 & 18.61 & 1 & 1 & 4 & 1\\\\\n\tHornet 4 Drive & 21.4 & 6 & 258 & 110 & 3.08 & 3.215 & 19.44 & 1 & 0 & 3 & 1\\\\\n\tHornet Sportabout & 18.7 & 8 & 360 & 175 & 3.15 & 3.440 & 17.02 & 0 & 0 & 3 & 2\\\\\n\tValiant & 18.1 & 6 & 225 & 105 & 2.76 & 3.460 & 20.22 & 1 & 0 & 3 & 1\\\\\n\\end{tabular}\n",
            "text/plain": [
              "                  mpg  cyl disp hp  drat wt    qsec  vs am gear carb\n",
              "Mazda RX4         21.0 6   160  110 3.90 2.620 16.46 0  1  4    4   \n",
              "Mazda RX4 Wag     21.0 6   160  110 3.90 2.875 17.02 0  1  4    4   \n",
              "Datsun 710        22.8 4   108   93 3.85 2.320 18.61 1  1  4    1   \n",
              "Hornet 4 Drive    21.4 6   258  110 3.08 3.215 19.44 1  0  3    1   \n",
              "Hornet Sportabout 18.7 8   360  175 3.15 3.440 17.02 0  0  3    2   \n",
              "Valiant           18.1 6   225  105 2.76 3.460 20.22 1  0  3    1   "
            ]
          },
          "metadata": {}
        }
      ]
    },
    {
      "cell_type": "code",
      "source": [
        "set.seed(123)\n",
        "\n",
        "# Create an index for splitting (80% training, 20% testing)\n",
        "index <- createDataPartition(mtcars$mpg, p = 0.8, list = FALSE)\n",
        "\n",
        "# Split the dataset\n",
        "train_data <- mtcars[index, ]\n",
        "test_data <- mtcars[-index, ]"
      ],
      "metadata": {
        "id": "yyCMJH4dZ-Pr"
      },
      "execution_count": null,
      "outputs": []
    },
    {
      "cell_type": "code",
      "source": [
        "Y_train <- train_data$mpg\n",
        "\n",
        "Y_test <- test_data$mpg\n",
        "\n",
        "X_train <- train_data[, -c(1)]\n",
        "\n",
        "X_test <- test_data[, -c(1)]"
      ],
      "metadata": {
        "id": "ibERMgd_fjri"
      },
      "execution_count": null,
      "outputs": []
    },
    {
      "cell_type": "code",
      "source": [
        "# Fit a linear regression model on the training set\n",
        "model <- lm(Y_train ~ ., data = X_train)\n",
        "\n",
        "summary(model)"
      ],
      "metadata": {
        "colab": {
          "base_uri": "https://localhost:8080/",
          "height": 451
        },
        "id": "IFQVCnjDf1Vq",
        "outputId": "c692ef0a-6af0-430b-c11b-f5265743e301"
      },
      "execution_count": null,
      "outputs": [
        {
          "output_type": "display_data",
          "data": {
            "text/plain": [
              "\n",
              "Call:\n",
              "lm(formula = Y_train ~ ., data = X_train)\n",
              "\n",
              "Residuals:\n",
              "    Min      1Q  Median      3Q     Max \n",
              "-3.2742 -1.3609 -0.2707  1.1921  4.9877 \n",
              "\n",
              "Coefficients:\n",
              "            Estimate Std. Error t value Pr(>|t|)\n",
              "(Intercept) -2.81069   22.93545  -0.123    0.904\n",
              "cyl          0.75593    1.21576   0.622    0.542\n",
              "disp         0.01172    0.01674   0.700    0.494\n",
              "hp          -0.01386    0.02197  -0.631    0.536\n",
              "drat         2.24007    1.77251   1.264    0.223\n",
              "wt          -2.73273    1.87954  -1.454    0.164\n",
              "qsec         0.53957    0.71812   0.751    0.463\n",
              "vs           1.21640    2.02623   0.600    0.556\n",
              "am           1.73662    2.08358   0.833    0.416\n",
              "gear         2.95127    1.88459   1.566    0.136\n",
              "carb        -1.19910    0.98232  -1.221    0.239\n",
              "\n",
              "Residual standard error: 2.431 on 17 degrees of freedom\n",
              "Multiple R-squared:  0.8861,\tAdjusted R-squared:  0.8191 \n",
              "F-statistic: 13.23 on 10 and 17 DF,  p-value: 3.719e-06\n"
            ]
          },
          "metadata": {}
        }
      ]
    },
    {
      "cell_type": "code",
      "source": [
        "predictions <- predict(model, newdata = X_test)"
      ],
      "metadata": {
        "id": "p-OQoUKmgB5c"
      },
      "execution_count": null,
      "outputs": []
    },
    {
      "cell_type": "code",
      "source": [
        "# Predict on Testing Set\n",
        "predictions <- predict(model, newdata = X_test)\n",
        "\n",
        "# Create a data frame for actual vs. predicted values\n",
        "results <- data.frame(Actual = Y_test, Predicted = predictions)\n",
        "\n",
        "# Visualize Results for Testing Set\n",
        "ggplot(results, aes(x = Actual, y = Predicted)) +\n",
        "  geom_point() +\n",
        "  geom_abline(slope = 1, intercept = 0, color = \"red\", linetype = \"dashed\") +\n",
        "  labs(title = \"Actual vs. Predicted Values (mpg) - Testing Set\",\n",
        "       x = \"Actual mpg\",\n",
        "       y = \"Predicted mpg\")"
      ],
      "metadata": {
        "colab": {
          "base_uri": "https://localhost:8080/",
          "height": 437
        },
        "id": "DJA5_rqQgd2N",
        "outputId": "1c6b5686-09b0-4752-dc7c-96692e426cc9"
      },
      "execution_count": null,
      "outputs": [
        {
          "output_type": "display_data",
          "data": {
            "text/plain": [
              "plot without title"
            ],
            "image/png": "[encoded data removed]"
          },
          "metadata": {
            "image/png": {
              "width": 420,
              "height": 420
            }
          }
        }
      ]
    },
    {
      "cell_type": "code",
      "source": [
        "# Visualize Results for Training Set\n",
        "\n",
        "predictions_train <- predict(model, newdata = X_train)\n",
        "results_train <- data.frame(Actual = Y_train, Predicted = predictions_train)\n",
        "\n",
        "ggplot(results_train, aes(x = Actual, y = Predicted)) +\n",
        "  geom_point() +\n",
        "  geom_abline(slope = 1, intercept = 0, color = \"blue\", linetype = \"dashed\") +\n",
        "  labs(title = \"Actual vs. Predicted Values (mpg) - Training Set\",\n",
        "       x = \"Actual mpg\",\n",
        "       y = \"Predicted mpg\")"
      ],
      "metadata": {
        "colab": {
          "base_uri": "https://localhost:8080/",
          "height": 437
        },
        "id": "-FrmwGt-gvDx",
        "outputId": "6e497854-48ea-4b6f-ea01-b9cf005a9ec0"
      },
      "execution_count": null,
      "outputs": [
        {
          "output_type": "display_data",
          "data": {
            "text/plain": [
              "plot without title"
            ],
            "image/png": "[encoded data removed]"
          },
          "metadata": {
            "image/png": {
              "width": 420,
              "height": 420
            }
          }
        }
      ]
    },
    {
      "cell_type": "code",
      "source": [
        "# Evaluate the model performance\n",
        "\n",
        "# Calculate Root Mean Squared Error (RMSE)\n",
        "rmse <- sqrt(mean((Y_test - predictions)^2))\n",
        "print(paste(\"Root Mean Squared Error:\", round(rmse, 2)))"
      ],
      "metadata": {
        "colab": {
          "base_uri": "https://localhost:8080/"
        },
        "id": "H3V698wphTwl",
        "outputId": "6018c537-7cf1-4bc8-dfa4-b91ec4b181df"
      },
      "execution_count": null,
      "outputs": [
        {
          "output_type": "stream",
          "name": "stdout",
          "text": [
            "[1] \"Root Mean Squared Error: 4.81\"\n"
          ]
        }
      ]
    },
    {
      "cell_type": "code",
      "source": [
        "# Calculate R-squared (R2) Score\n",
        "\n",
        "r2_score <- R2(predictions, Y_test)\n",
        "print(paste(\"R-squared (R2) Score:\", round(r2_score, 2)))"
      ],
      "metadata": {
        "colab": {
          "base_uri": "https://localhost:8080/"
        },
        "id": "sPXNAFN3huHI",
        "outputId": "316efcac-d304-4908-e26d-f0cec934f835"
      },
      "execution_count": null,
      "outputs": [
        {
          "output_type": "stream",
          "name": "stdout",
          "text": [
            "[1] \"R-squared (R2) Score: 0.63\"\n"
          ]
        }
      ]
    },
    {
      "cell_type": "markdown",
      "source": [
        "## **3. Logistic Regression in R**"
      ],
      "metadata": {
        "id": "qs6pNKKoiOym"
      }
    },
    {
      "cell_type": "markdown",
      "source": [
        "In R, Logistic Regression stands as a prevalent statistical approach for binary classification endeavors. This method models the probability of an event occurring based on input features, utilizing a logistic function to confine the output within the range of 0 to 1. Logistic Regression in R is esteemed for its interpretability, computational efficiency, and applicability in comprehending the influence of individual features on the outcome. Techniques like L1 and L2 regularization are often employed to counter overfitting. The simplicity and efficacy of Logistic Regression make it a fundamental tool in predictive modeling within the R environment, especially when transparency and ease of interpretation are prioritized"
      ],
      "metadata": {
        "id": "B9r8tAMIirKz"
      }
    },
    {
      "cell_type": "code",
      "source": [
        "data(iris)\n",
        "\n",
        "summary(iris)\n"
      ],
      "metadata": {
        "colab": {
          "base_uri": "https://localhost:8080/",
          "height": 260
        },
        "id": "J0RbrhF7jRUM",
        "outputId": "bce6bb05-0a10-45aa-fffa-2f91540f4ac0"
      },
      "execution_count": null,
      "outputs": [
        {
          "output_type": "display_data",
          "data": {
            "text/plain": [
              "  Sepal.Length    Sepal.Width     Petal.Length    Petal.Width   \n",
              " Min.   :4.300   Min.   :2.000   Min.   :1.000   Min.   :0.100  \n",
              " 1st Qu.:5.100   1st Qu.:2.800   1st Qu.:1.600   1st Qu.:0.300  \n",
              " Median :5.800   Median :3.000   Median :4.350   Median :1.300  \n",
              " Mean   :5.843   Mean   :3.057   Mean   :3.758   Mean   :1.199  \n",
              " 3rd Qu.:6.400   3rd Qu.:3.300   3rd Qu.:5.100   3rd Qu.:1.800  \n",
              " Max.   :7.900   Max.   :4.400   Max.   :6.900   Max.   :2.500  \n",
              "       Species  \n",
              " setosa    :50  \n",
              " versicolor:50  \n",
              " virginica :50  \n",
              "                \n",
              "                \n",
              "                "
            ]
          },
          "metadata": {}
        }
      ]
    },
    {
      "cell_type": "code",
      "source": [
        "# Preprocess the dataset\n",
        "\n",
        "# Convert the \"Species\" column to a binary response variable\n",
        "iris$Response <- ifelse(iris$Species == \"versicolor\", 1, 0)\n",
        "\n",
        "# Remove unnecessary columns\n",
        "iris <- iris %>% select(-Species)\n",
        "\n",
        "head(iris)"
      ],
      "metadata": {
        "colab": {
          "base_uri": "https://localhost:8080/",
          "height": 286
        },
        "id": "dUYy098UkK89",
        "outputId": "89b372a7-bdd6-4a89-a4f1-3aec83f99ad2"
      },
      "execution_count": null,
      "outputs": [
        {
          "output_type": "display_data",
          "data": {
            "text/html": [
              "<table class=\"dataframe\">\n",
              "<caption>A data.frame: 6 × 5</caption>\n",
              "<thead>\n",
              "\t<tr><th></th><th scope=col>Sepal.Length</th><th scope=col>Sepal.Width</th><th scope=col>Petal.Length</th><th scope=col>Petal.Width</th><th scope=col>Response</th></tr>\n",
              "\t<tr><th></th><th scope=col>&lt;dbl&gt;</th><th scope=col>&lt;dbl&gt;</th><th scope=col>&lt;dbl&gt;</th><th scope=col>&lt;dbl&gt;</th><th scope=col>&lt;dbl&gt;</th></tr>\n",
              "</thead>\n",
              "<tbody>\n",
              "\t<tr><th scope=row>1</th><td>5.1</td><td>3.5</td><td>1.4</td><td>0.2</td><td>0</td></tr>\n",
              "\t<tr><th scope=row>2</th><td>4.9</td><td>3.0</td><td>1.4</td><td>0.2</td><td>0</td></tr>\n",
              "\t<tr><th scope=row>3</th><td>4.7</td><td>3.2</td><td>1.3</td><td>0.2</td><td>0</td></tr>\n",
              "\t<tr><th scope=row>4</th><td>4.6</td><td>3.1</td><td>1.5</td><td>0.2</td><td>0</td></tr>\n",
              "\t<tr><th scope=row>5</th><td>5.0</td><td>3.6</td><td>1.4</td><td>0.2</td><td>0</td></tr>\n",
              "\t<tr><th scope=row>6</th><td>5.4</td><td>3.9</td><td>1.7</td><td>0.4</td><td>0</td></tr>\n",
              "</tbody>\n",
              "</table>\n"
            ],
            "text/markdown": "\nA data.frame: 6 × 5\n\n| <!--/--> | Sepal.Length &lt;dbl&gt; | Sepal.Width &lt;dbl&gt; | Petal.Length &lt;dbl&gt; | Petal.Width &lt;dbl&gt; | Response &lt;dbl&gt; |\n|---|---|---|---|---|---|\n| 1 | 5.1 | 3.5 | 1.4 | 0.2 | 0 |\n| 2 | 4.9 | 3.0 | 1.4 | 0.2 | 0 |\n| 3 | 4.7 | 3.2 | 1.3 | 0.2 | 0 |\n| 4 | 4.6 | 3.1 | 1.5 | 0.2 | 0 |\n| 5 | 5.0 | 3.6 | 1.4 | 0.2 | 0 |\n| 6 | 5.4 | 3.9 | 1.7 | 0.4 | 0 |\n\n",
            "text/latex": "A data.frame: 6 × 5\n\\begin{tabular}{r|lllll}\n  & Sepal.Length & Sepal.Width & Petal.Length & Petal.Width & Response\\\\\n  & <dbl> & <dbl> & <dbl> & <dbl> & <dbl>\\\\\n\\hline\n\t1 & 5.1 & 3.5 & 1.4 & 0.2 & 0\\\\\n\t2 & 4.9 & 3.0 & 1.4 & 0.2 & 0\\\\\n\t3 & 4.7 & 3.2 & 1.3 & 0.2 & 0\\\\\n\t4 & 4.6 & 3.1 & 1.5 & 0.2 & 0\\\\\n\t5 & 5.0 & 3.6 & 1.4 & 0.2 & 0\\\\\n\t6 & 5.4 & 3.9 & 1.7 & 0.4 & 0\\\\\n\\end{tabular}\n",
            "text/plain": [
              "  Sepal.Length Sepal.Width Petal.Length Petal.Width Response\n",
              "1 5.1          3.5         1.4          0.2         0       \n",
              "2 4.9          3.0         1.4          0.2         0       \n",
              "3 4.7          3.2         1.3          0.2         0       \n",
              "4 4.6          3.1         1.5          0.2         0       \n",
              "5 5.0          3.6         1.4          0.2         0       \n",
              "6 5.4          3.9         1.7          0.4         0       "
            ]
          },
          "metadata": {}
        }
      ]
    },
    {
      "cell_type": "code",
      "source": [
        "# Bar Graph for Response Counts\n",
        "\n",
        "bar_plot <- ggplot(iris, aes(x = Response, fill = factor(Response))) +\n",
        "  geom_bar() +\n",
        "  labs(title = \"Response Counts\",\n",
        "       x = \"Response\",\n",
        "       y = \"Count\")\n",
        "\n",
        "\n",
        "print(bar_plot)"
      ],
      "metadata": {
        "colab": {
          "base_uri": "https://localhost:8080/",
          "height": 437
        },
        "id": "yeVa8vbtlTM3",
        "outputId": "558c96fd-beaa-4747-da56-ad8c471352d5"
      },
      "execution_count": null,
      "outputs": [
        {
          "output_type": "display_data",
          "data": {
            "text/plain": [
              "plot without title"
            ],
            "image/png": "[encoded data removed]"
          },
          "metadata": {
            "image/png": {
              "width": 420,
              "height": 420
            }
          }
        }
      ]
    },
    {
      "cell_type": "code",
      "source": [
        "# Histogram for Sepal Length\n",
        "\n",
        "hist_plot <- ggplot(iris, aes(x = Sepal.Length)) +\n",
        "  geom_histogram(binwidth = 0.5, fill = \"skyblue\", color = \"black\", alpha = 0.7) +\n",
        "  labs(title = \"Histogram of Sepal Length\",\n",
        "       x = \"Sepal Length\",\n",
        "       y = \"Frequency\")\n",
        "\n",
        "print(hist_plot)"
      ],
      "metadata": {
        "colab": {
          "base_uri": "https://localhost:8080/",
          "height": 437
        },
        "id": "f-drepCKn5Wj",
        "outputId": "e6a7c55a-653f-46fa-e499-1ad5f8beae14"
      },
      "execution_count": null,
      "outputs": [
        {
          "output_type": "display_data",
          "data": {
            "text/plain": [
              "plot without title"
            ],
            "image/png": "[encoded data removed]"
          },
          "metadata": {
            "image/png": {
              "width": 420,
              "height": 420
            }
          }
        }
      ]
    },
    {
      "cell_type": "code",
      "source": [
        "# Scatter Plot for Sepal Length and Sepal Width\n",
        "\n",
        "scatter_plot <- ggplot(iris, aes(x = Sepal.Length, y = Sepal.Width, color = factor(Response))) +\n",
        "  geom_point() +\n",
        "  labs(title = \"Scatter Plot of Sepal Length and Sepal Width\",\n",
        "       x = \"Sepal Length\",\n",
        "       y = \"Sepal Width\")\n",
        "\n",
        "\n",
        "print(scatter_plot)"
      ],
      "metadata": {
        "colab": {
          "base_uri": "https://localhost:8080/",
          "height": 437
        },
        "id": "fSPGtZvXoFQB",
        "outputId": "65fa57c7-08bd-48e7-f0f5-210e1a3e548d"
      },
      "execution_count": null,
      "outputs": [
        {
          "output_type": "display_data",
          "data": {
            "text/plain": [
              "plot without title"
            ],
            "image/png": "[encoded data removed]"
          },
          "metadata": {
            "image/png": {
              "width": 420,
              "height": 420
            }
          }
        }
      ]
    },
    {
      "cell_type": "code",
      "source": [
        "iris <- na.omit(iris)"
      ],
      "metadata": {
        "id": "wGzf6ACyraCH"
      },
      "execution_count": null,
      "outputs": []
    },
    {
      "cell_type": "code",
      "source": [
        "# Split the dataset\n",
        "\n",
        "set.seed(123)\n",
        "index <- createDataPartition(iris$Response, p = 0.8, list = FALSE)\n",
        "train_data <- iris[index, ]\n",
        "test_data <- iris[-index, ]\n"
      ],
      "metadata": {
        "id": "rwDcstjjogmy"
      },
      "execution_count": null,
      "outputs": []
    },
    {
      "cell_type": "code",
      "source": [
        "# Implement Logistic Regression on Training Set\n",
        "model <- glm(Response ~ ., data = train_data, family = binomial)\n",
        "\n",
        "# View the summary of the logistic regression model\n",
        "summary(model)"
      ],
      "metadata": {
        "colab": {
          "base_uri": "https://localhost:8080/",
          "height": 381
        },
        "id": "2zfqOriYtUGY",
        "outputId": "5df728d6-19c6-40bb-97dc-0d48584c8fb8"
      },
      "execution_count": null,
      "outputs": [
        {
          "output_type": "display_data",
          "data": {
            "text/plain": [
              "\n",
              "Call:\n",
              "glm(formula = Response ~ ., family = binomial, data = train_data)\n",
              "\n",
              "Coefficients:\n",
              "             Estimate Std. Error z value Pr(>|z|)   \n",
              "(Intercept)    6.7259     2.7504   2.445  0.01447 * \n",
              "Sepal.Length  -0.3182     0.7198  -0.442  0.65840   \n",
              "Sepal.Width   -2.5010     0.8194  -3.052  0.00227 **\n",
              "Petal.Length   1.2567     0.7343   1.711  0.08700 . \n",
              "Petal.Width   -2.6268     1.2530  -2.096  0.03604 * \n",
              "---\n",
              "Signif. codes:  0 ‘***’ 0.001 ‘**’ 0.01 ‘*’ 0.05 ‘.’ 0.1 ‘ ’ 1\n",
              "\n",
              "(Dispersion parameter for binomial family taken to be 1)\n",
              "\n",
              "    Null deviance: 144.87  on 119  degrees of freedom\n",
              "Residual deviance: 114.25  on 115  degrees of freedom\n",
              "AIC: 124.25\n",
              "\n",
              "Number of Fisher Scoring iterations: 5\n"
            ]
          },
          "metadata": {}
        }
      ]
    },
    {
      "cell_type": "code",
      "source": [
        "# Predict on Testing Set\n",
        "predictions <- predict(model, newdata = test_data, type = \"response\")\n",
        "\n",
        "# Create a confusion matrix\n",
        "conf_matrix <- table(Actual = test_data$Response, Predicted = ifelse(predictions > 0.5, 1, 0))\n",
        "\n",
        "# Visualize the confusion matrix\n",
        "conf_matrix"
      ],
      "metadata": {
        "colab": {
          "base_uri": "https://localhost:8080/",
          "height": 86
        },
        "id": "rh4vDkNutZeq",
        "outputId": "88685f75-b2a2-4219-9814-b64507127fa1"
      },
      "execution_count": null,
      "outputs": [
        {
          "output_type": "display_data",
          "data": {
            "text/plain": [
              "      Predicted\n",
              "Actual  0  1\n",
              "     0 14  1\n",
              "     1 10  5"
            ]
          },
          "metadata": {}
        }
      ]
    },
    {
      "cell_type": "code",
      "source": [
        "# Evaluate model performance\n",
        "\n",
        "accuracy <- sum(diag(conf_matrix)) / sum(conf_matrix)\n",
        "print(paste(\"Accuracy:\", round(accuracy, 2)))"
      ],
      "metadata": {
        "colab": {
          "base_uri": "https://localhost:8080/"
        },
        "id": "uYQJxttztfP1",
        "outputId": "6eb9a0ed-f24f-4d73-dd85-423dfecce630"
      },
      "execution_count": null,
      "outputs": [
        {
          "output_type": "stream",
          "name": "stdout",
          "text": [
            "[1] \"Accuracy: 0.63\"\n"
          ]
        }
      ]
    },
    {
      "cell_type": "code",
      "source": [
        "# Create a ROC curve\n",
        "\n",
        "roc_curve <- roc(test_data$Response, predictions)\n",
        "auc_score <- auc(roc_curve)\n",
        "\n",
        "\n",
        "plot(roc_curve, main = \"ROC Curve\", col = \"blue\", lwd = 2, legacy.axes = TRUE)\n",
        "lines(c(0, 1), c(0, 1), col = \"red\", lty = 2, lwd = 2)\n",
        "legend(\"bottomright\", legend = paste(\"AUC =\", round(auc_score, 2)), col = \"blue\", lwd = 2)"
      ],
      "metadata": {
        "colab": {
          "base_uri": "https://localhost:8080/",
          "height": 506
        },
        "id": "RiRnciF0t27M",
        "outputId": "f06e75f6-b17b-41ac-ac2a-2a9236d07241"
      },
      "execution_count": null,
      "outputs": [
        {
          "output_type": "stream",
          "name": "stderr",
          "text": [
            "Setting levels: control = 0, case = 1\n",
            "\n",
            "Setting direction: controls < cases\n",
            "\n"
          ]
        },
        {
          "output_type": "display_data",
          "data": {
            "text/plain": [
              "Plot with title “ROC Curve”"
            ],
            "image/png": "[encoded data removed]"
          },
          "metadata": {
            "image/png": {
              "width": 420,
              "height": 420
            }
          }
        }
      ]
    },
    {
      "cell_type": "code",
      "source": [],
      "metadata": {
        "id": "J6_oVgZyu5my"
      },
      "execution_count": null,
      "outputs": []
    },
    {
      "cell_type": "markdown",
      "source": [
        "## **4. Feature selection and Data visualization**"
      ],
      "metadata": {
        "id": "Fan1Rxv_vyq8"
      }
    },
    {
      "cell_type": "markdown",
      "source": [
        "In R, feature selection is a crucial step that entails identifying and preserving the most pertinent features within a dataset. This practice aims to boost model efficiency, mitigate overfitting, and enhance interpretability. Various techniques are available, including filter methods that assess individual feature relevance, wrapper methods that leverage model performance, and embedded methods that seamlessly integrate feature selection into the model training process. The selection process often considers factors like domain knowledge and model-specific behaviors. Efficient feature selection in R can markedly improve model accuracy and streamline computational complexity"
      ],
      "metadata": {
        "id": "n1RLMNeAwAGJ"
      }
    },
    {
      "cell_type": "code",
      "source": [
        "data(iris)\n",
        "\n",
        "summary(iris)"
      ],
      "metadata": {
        "colab": {
          "base_uri": "https://localhost:8080/",
          "height": 260
        },
        "id": "T908ImnIwchh",
        "outputId": "40f4d733-cba4-47d9-82a8-1719d6bb069d"
      },
      "execution_count": null,
      "outputs": [
        {
          "output_type": "display_data",
          "data": {
            "text/plain": [
              "  Sepal.Length    Sepal.Width     Petal.Length    Petal.Width   \n",
              " Min.   :4.300   Min.   :2.000   Min.   :1.000   Min.   :0.100  \n",
              " 1st Qu.:5.100   1st Qu.:2.800   1st Qu.:1.600   1st Qu.:0.300  \n",
              " Median :5.800   Median :3.000   Median :4.350   Median :1.300  \n",
              " Mean   :5.843   Mean   :3.057   Mean   :3.758   Mean   :1.199  \n",
              " 3rd Qu.:6.400   3rd Qu.:3.300   3rd Qu.:5.100   3rd Qu.:1.800  \n",
              " Max.   :7.900   Max.   :4.400   Max.   :6.900   Max.   :2.500  \n",
              "       Species  \n",
              " setosa    :50  \n",
              " versicolor:50  \n",
              " virginica :50  \n",
              "                \n",
              "                \n",
              "                "
            ]
          },
          "metadata": {}
        }
      ]
    },
    {
      "cell_type": "code",
      "source": [
        "# Preprocess the dataset\n",
        "\n",
        "# Convert the \"Species\" column to a binary response variable\n",
        "iris$Response <- ifelse(iris$Species == \"versicolor\", 1, 0)\n",
        "\n",
        "# Remove unnecessary columns\n",
        "iris <- iris %>% select(-Species)"
      ],
      "metadata": {
        "id": "W1RlnQIh1AjV"
      },
      "execution_count": null,
      "outputs": []
    },
    {
      "cell_type": "code",
      "source": [
        "# Split the dataset\n",
        "\n",
        "set.seed(123)\n",
        "index <- createDataPartition(iris$Response, p = 0.8, list = FALSE)\n",
        "train_data <- iris[index, ]\n",
        "test_data <- iris[-index, ]"
      ],
      "metadata": {
        "id": "Syu27ipS1C5I"
      },
      "execution_count": null,
      "outputs": []
    },
    {
      "cell_type": "code",
      "source": [
        "# Feature Selection using PCA\n",
        "\n",
        "# Check if \"Response\" column exists\n",
        "if (\"Response\" %in% colnames(train_data)) {\n",
        "  # Standardize the features, excluding the \"Response\" column\n",
        "  scaled_features <- scale(train_data[, !colnames(train_data) %in% \"Response\"])\n",
        "\n",
        "  # Apply PCA\n",
        "  pca_result <- prcomp(scaled_features, center = TRUE, scale. = TRUE)\n",
        "\n",
        "  # Plot the proportion of variance explained by each principal component\n",
        "  summary(pca_result)$importance[2, ] %>%\n",
        "    barplot(main = \"Proportion of Variance Explained by Principal Components\",\n",
        "            xlab = \"Principal Component\",\n",
        "            ylab = \"Proportion of Variance\",\n",
        "            col = \"skyblue\")\n",
        "\n",
        "  # Select the number of principal components based on the plot and set it to 'n_components'\n",
        "  n_components <- 2\n",
        "\n",
        "  # Extract the selected principal components\n",
        "  pca_features <- as.data.frame(predict(pca_result, newdata = scaled_features)[, 1:n_components])\n",
        "\n",
        "  # Combine PCA features with the response variable\n",
        "  train_data <- cbind(train_data[, \"Response\", drop = FALSE], pca_features)\n",
        "\n",
        "  # Continue with the rest of the code...\n",
        "} else {\n",
        "  print(\"Error: 'Response' column not found in the dataset.\")\n",
        "}\n"
      ],
      "metadata": {
        "colab": {
          "base_uri": "https://localhost:8080/",
          "height": 437
        },
        "id": "IeH3KAek1Lz0",
        "outputId": "6f24151f-5423-40ea-a00c-f68881de7cde"
      },
      "execution_count": null,
      "outputs": [
        {
          "output_type": "display_data",
          "data": {
            "text/plain": [
              "Plot with title “Proportion of Variance Explained by Principal Components”"
            ],
            "image/png": "[encoded data removed]"
          },
          "metadata": {
            "image/png": {
              "width": 420,
              "height": 420
            }
          }
        }
      ]
    },
    {
      "cell_type": "code",
      "source": [
        "# Implement Random Forest model using selected features\n",
        "rf_model <- randomForest(Response ~ ., data = train_data)\n",
        "\n",
        "# Predict on Testing Set\n",
        "scaled_test_data <- scale(test_data[, !colnames(test_data) %in% \"Response\"])\n",
        "pca_test_features <- as.data.frame(predict(pca_result, newdata = scaled_test_data)[, 1:n_components])\n",
        "test_data_pca <- cbind(test_data[, \"Response\", drop = FALSE], pca_test_features)\n",
        "predictions <- predict(rf_model, newdata = test_data_pca)"
      ],
      "metadata": {
        "colab": {
          "base_uri": "https://localhost:8080/"
        },
        "id": "JQrlTo-Y2Az7",
        "outputId": "bf51c272-4b50-4f78-e725-77cdefbe8585"
      },
      "execution_count": null,
      "outputs": [
        {
          "output_type": "stream",
          "name": "stderr",
          "text": [
            "Warning message in randomForest.default(m, y, ...):\n",
            "“The response has five or fewer unique values.  Are you sure you want to do regression?”\n"
          ]
        }
      ]
    },
    {
      "cell_type": "code",
      "source": [
        "# Create a confusion matrix\n",
        "conf_matrix <- table(Actual = test_data$Response, Predicted = predictions)\n",
        "\n",
        "conf_matrix"
      ],
      "metadata": {
        "colab": {
          "base_uri": "https://localhost:8080/",
          "height": 364
        },
        "id": "vxs7UhLq2gk_",
        "outputId": "ccb23d3e-1c9b-4fff-c588-21848973968d"
      },
      "execution_count": null,
      "outputs": [
        {
          "output_type": "display_data",
          "data": {
            "text/plain": [
              "      Predicted\n",
              "Actual 3.10862446895044e-18 3.21964677141295e-18 3.33066907387547e-18 0.001\n",
              "     0                    1                    1                    1     1\n",
              "     1                    0                    0                    0     0\n",
              "      Predicted\n",
              "Actual 0.0013 0.0046 0.0176666666666667 0.0194 0.0427 0.0478 0.0588 0.0673\n",
              "     0      1      1                  0      2      1      1      1      1\n",
              "     1      0      0                  1      0      0      0      0      0\n",
              "      Predicted\n",
              "Actual 0.0679 0.0715 0.114 0.1331 0.139533333333333 0.307566666666667 0.5914\n",
              "     0      1      1     0      1                 0                 0      0\n",
              "     1      0      0     1      0                 1                 1      1\n",
              "      Predicted\n",
              "Actual 0.679233333333333 0.688266666666667 0.711233333333333 0.7197 0.7253\n",
              "     0                 0                 0                 0      0      0\n",
              "     1                 1                 1                 1      1      1\n",
              "      Predicted\n",
              "Actual 0.773600000000001 0.8025 0.833333333333333 0.9192 0.9547\n",
              "     0                 0      0                 0      0      0\n",
              "     1                 1      1                 1      1      1"
            ]
          },
          "metadata": {}
        }
      ]
    },
    {
      "cell_type": "code",
      "source": [
        "# Evaluate model performance (e.g., calculate accuracy)\n",
        "\n",
        "accuracy <- sum(diag(conf_matrix)) / sum(conf_matrix)\n",
        "print(paste(\"Accuracy:\", round(accuracy, 2)))"
      ],
      "metadata": {
        "colab": {
          "base_uri": "https://localhost:8080/"
        },
        "id": "VnAro6wV2mj0",
        "outputId": "ce299709-38cd-4545-c1bc-6dd42204fab8"
      },
      "execution_count": null,
      "outputs": [
        {
          "output_type": "stream",
          "name": "stdout",
          "text": [
            "[1] \"Accuracy: 0.03\"\n"
          ]
        }
      ]
    }
  ]
}